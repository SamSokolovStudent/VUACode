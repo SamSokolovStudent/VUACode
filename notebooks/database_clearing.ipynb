{
 "cells": [
  {
   "cell_type": "code",
   "execution_count": 2,
   "metadata": {
    "collapsed": true,
    "ExecuteTime": {
     "end_time": "2023-12-04T03:33:15.343756500Z",
     "start_time": "2023-12-04T03:33:14.338068900Z"
    }
   },
   "outputs": [
    {
     "name": "stdout",
     "output_type": "stream",
     "text": [
      "Cleared all documents from papers\n"
     ]
    },
    {
     "data": {
      "text/plain": "<IPython.core.display.HTML object>",
      "text/html": "<b>Database has been cleared.</b>"
     },
     "metadata": {},
     "output_type": "display_data"
    }
   ],
   "source": [
    "import os\n",
    "from dotenv import load_dotenv\n",
    "from pymongo import MongoClient\n",
    "from IPython.display import display, HTML\n",
    "\n",
    "# Fetch the MongoDB URI from the environment variable\n",
    "dotenv_path = r'C:\\Users\\Soko\\Documents\\GitHub\\VUACode\\.env'\n",
    "load_dotenv(dotenv_path)\n",
    "mongodb_uri = os.getenv('MONGODB_URI')\n",
    "\n",
    "if mongodb_uri:\n",
    "    # Connect to the MongoDB client using the URI\n",
    "    client = MongoClient(mongodb_uri)\n",
    "\n",
    "    # Specify the database you want to clear\n",
    "    db = client['twinning_papers']\n",
    "    collections = db.list_collection_names()\n",
    "\n",
    "    # Loop through the collections and delete all documents from each\n",
    "    for collection_name in collections:\n",
    "        db[collection_name].delete_many({})\n",
    "        print(f\"Cleared all documents from {collection_name}\")\n",
    "\n",
    "    display(HTML(\"<b>Database has been cleared.</b>\"))\n",
    "else:\n",
    "    print(\"Please set the MONGODB_URI environment variable.\")\n"
   ]
  },
  {
   "cell_type": "code",
   "execution_count": 4,
   "outputs": [
    {
     "name": "stdout",
     "output_type": "stream",
     "text": [
      "3557\n"
     ]
    },
    {
     "name": "stderr",
     "output_type": "stream",
     "text": [
      "C:\\Users\\Soko\\AppData\\Local\\Temp\\ipykernel_15544\\1365554077.py:21: DeprecationWarning: count is deprecated. Use estimated_document_count or count_documents instead. Please note that $where must be replaced by $expr, $near must be replaced by $geoWithin with $center, and $nearSphere must be replaced by $geoWithin with $centerSphere\n",
      "  print(db[collection_name].count())\n"
     ]
    }
   ],
   "source": [
    "import os\n",
    "from dotenv import load_dotenv\n",
    "from pymongo import MongoClient\n",
    "\n",
    "# Fetch the MongoDB URI from the environment variable\n",
    "dotenv_path = r'C:\\Users\\Soko\\Documents\\GitHub\\VUACode\\.env'\n",
    "load_dotenv(dotenv_path)\n",
    "mongodb_uri = os.getenv('MONGODB_URI')\n",
    "\n",
    "if mongodb_uri:\n",
    "    # Connect to the MongoDB client using the URI\n",
    "    client = MongoClient(mongodb_uri)\n",
    "\n",
    "    # Specify the database you want to clear\n",
    "    db = client['twinning_papers']\n",
    "\n",
    "    # This will fetch all collection names in the database\n",
    "    collections = db.list_collection_names()\n",
    "\n",
    "    for collection_name in collections:\n",
    "        print(db[collection_name].count())\n",
    "else:\n",
    "    print(\"Please set the MONGODB_URI environment variable.\")\n"
   ],
   "metadata": {
    "collapsed": false,
    "ExecuteTime": {
     "end_time": "2023-12-04T04:19:54.485953400Z",
     "start_time": "2023-12-04T04:19:53.376807Z"
    }
   }
  },
  {
   "cell_type": "code",
   "execution_count": 3,
   "outputs": [
    {
     "name": "stdout",
     "output_type": "stream",
     "text": [
      "Deleted document with _id: 656d4e0138303de27999024e\n",
      "Deleted document with _id: 656d4e0138303de27999024f\n",
      "Deleted document with _id: 656d4e0138303de279990250\n",
      "Deleted document with _id: 656d4e0238303de279990251\n",
      "Deleted document with _id: 656d4e0238303de279990252\n",
      "Deleted document with _id: 656d4e0238303de279990253\n",
      "Deleted document with _id: 656d4e0238303de279990254\n",
      "Deleted document with _id: 656d4e0238303de279990255\n",
      "Deleted document with _id: 656d4e0238303de279990256\n",
      "Deleted document with _id: 656d4e0238303de279990257\n",
      "Deleted document with _id: 656d4e0238303de279990258\n",
      "Deleted document with _id: 656d4e0238303de279990259\n",
      "Deleted document with _id: 656d4e0238303de27999025a\n",
      "Deleted document with _id: 656d4e0338303de27999025b\n",
      "Deleted document with _id: 656d4e0338303de27999025c\n",
      "Deleted document with _id: 656d4e0338303de27999025d\n",
      "Deleted document with _id: 656d4e0338303de27999025e\n",
      "Deleted document with _id: 656d4e0338303de27999025f\n",
      "Deleted document with _id: 656d4e0338303de279990260\n",
      "Deleted document with _id: 656d4e0338303de279990261\n",
      "Deleted document with _id: 656d4e0338303de279990262\n",
      "Deleted document with _id: 656d4e0338303de279990263\n",
      "Deleted document with _id: 656d4e0338303de279990264\n",
      "Deleted document with _id: 656d4e0438303de279990265\n",
      "Deleted document with _id: 656d4e0438303de279990266\n",
      "Deleted document with _id: 656d4e0438303de279990267\n",
      "Deleted document with _id: 656d4e0438303de279990268\n",
      "Deleted document with _id: 656d4e0438303de279990269\n",
      "Deleted document with _id: 656d4e0438303de27999026a\n",
      "Deleted document with _id: 656d4e0438303de27999026b\n",
      "Deleted document with _id: 656d4e0438303de27999026c\n",
      "Deleted document with _id: 656d4e0438303de27999026d\n",
      "Deleted document with _id: 656d4e0438303de27999026e\n",
      "Deleted document with _id: 656d4e0438303de27999026f\n",
      "Deleted document with _id: 656d4e0538303de279990270\n",
      "Deleted document with _id: 656d4e0538303de279990271\n",
      "Total documents deleted: 36\n"
     ]
    }
   ],
   "source": [
    "import os\n",
    "from pymongo import MongoClient\n",
    "from dotenv import load_dotenv\n",
    "\n",
    "# Load environment variables\n",
    "dotenv_path = r'C:\\Users\\Soko\\Documents\\GitHub\\VUACode\\.env'\n",
    "load_dotenv(dotenv_path)\n",
    "mongodb_uri = os.getenv('MONGODB_URI')\n",
    "\n",
    "# Connect to MongoDB\n",
    "client = MongoClient(mongodb_uri)\n",
    "db = client['twinning_papers']  # Replace with your database name\n",
    "collection = db['papers']  # Replace with your collection name\n",
    "\n",
    "# Function to delete documents without valid embeddings\n",
    "def delete_documents_without_embeddings():\n",
    "    deleted_count = 0\n",
    "    documents = collection.find({}, {\"_id\": 1, \"embedding\": 1})\n",
    "\n",
    "    for doc in documents:\n",
    "        embedding = doc.get('embedding')\n",
    "        if not (embedding and isinstance(embedding, list) and len(embedding) == 1536):\n",
    "            collection.delete_one({\"_id\": doc[\"_id\"]})\n",
    "            deleted_count += 1\n",
    "            print(f\"Deleted document with _id: {doc['_id']}\")\n",
    "\n",
    "    return deleted_count\n",
    "\n",
    "# Run the deletion process\n",
    "deleted_count = delete_documents_without_embeddings()\n",
    "print(f\"Total documents deleted: {deleted_count}\")\n"
   ],
   "metadata": {
    "collapsed": false,
    "ExecuteTime": {
     "end_time": "2023-12-04T04:19:04.036186Z",
     "start_time": "2023-12-04T04:18:47.208348400Z"
    }
   }
  },
  {
   "cell_type": "markdown",
   "source": [],
   "metadata": {
    "collapsed": false
   }
  }
 ],
 "metadata": {
  "kernelspec": {
   "display_name": "Python 3",
   "language": "python",
   "name": "python3"
  },
  "language_info": {
   "codemirror_mode": {
    "name": "ipython",
    "version": 2
   },
   "file_extension": ".py",
   "mimetype": "text/x-python",
   "name": "python",
   "nbconvert_exporter": "python",
   "pygments_lexer": "ipython2",
   "version": "2.7.6"
  }
 },
 "nbformat": 4,
 "nbformat_minor": 0
}
