{
 "cells": [
  {
   "cell_type": "code",
   "execution_count": 1,
   "outputs": [],
   "source": [
    "import os\n",
    "from dotenv import load_dotenv\n",
    "from pymongo import MongoClient\n",
    "# Load environment variables\n",
    "dotenv_path = r'C:\\Users\\Soko\\Documents\\GitHub\\VUACode\\.env'\n",
    "load_dotenv(dotenv_path)\n",
    "mongodb_uri = os.getenv('MONGODB_URI')\n",
    "\n",
    "# Connect to MongoDB\n",
    "client = MongoClient(mongodb_uri)\n",
    "db = client['twinning_papers']\n",
    "collection = db['papers']\n"
   ],
   "metadata": {
    "collapsed": false,
    "ExecuteTime": {
     "end_time": "2023-12-04T04:38:08.827031400Z",
     "start_time": "2023-12-04T04:38:08.702947700Z"
    }
   }
  },
  {
   "cell_type": "code",
   "execution_count": 2,
   "outputs": [
    {
     "name": "stdout",
     "output_type": "stream",
     "text": [
      "WARNING:tensorflow:From C:\\Users\\Soko\\Documents\\GitHub\\VUACode\\.venv\\Lib\\site-packages\\keras\\src\\losses.py:2976: The name tf.losses.sparse_softmax_cross_entropy is deprecated. Please use tf.compat.v1.losses.sparse_softmax_cross_entropy instead.\n",
      "\n"
     ]
    },
    {
     "data": {
      "text/plain": "Downloading model.safetensors:   0%|          | 0.00/1.63G [00:00<?, ?B/s]",
      "application/vnd.jupyter.widget-view+json": {
       "version_major": 2,
       "version_minor": 0,
       "model_id": "3aeef28b98dc4af88bac215c99e670ad"
      }
     },
     "metadata": {},
     "output_type": "display_data"
    },
    {
     "name": "stdout",
     "output_type": "stream",
     "text": [
      "WARNING:tensorflow:From C:\\Users\\Soko\\Documents\\GitHub\\VUACode\\.venv\\Lib\\site-packages\\keras\\src\\backend.py:873: The name tf.get_default_graph is deprecated. Please use tf.compat.v1.get_default_graph instead.\n",
      "\n"
     ]
    },
    {
     "name": "stderr",
     "output_type": "stream",
     "text": [
      "C:\\Users\\Soko\\Documents\\GitHub\\VUACode\\.venv\\Lib\\site-packages\\huggingface_hub\\file_download.py:133: UserWarning: `huggingface_hub` cache-system uses symlinks by default to efficiently store duplicated files but your machine does not support them in C:\\Users\\Soko\\.cache\\huggingface\\hub. Caching files will still work but in a degraded version that might require more space on your disk. This warning can be disabled by setting the `HF_HUB_DISABLE_SYMLINKS_WARNING` environment variable. For more details, see https://huggingface.co/docs/huggingface_hub/how-to-cache#limitations.\n",
      "To support symlinks on Windows, you either need to activate Developer Mode or to run Python as an administrator. In order to see activate developer mode, see this article: https://docs.microsoft.com/en-us/windows/apps/get-started/enable-your-device-for-development\n",
      "  warnings.warn(message)\n",
      "Some weights of the PyTorch model were not used when initializing the TF 2.0 model TFBartForSequenceClassification: ['model.encoder.version', 'model.decoder.version']\n",
      "- This IS expected if you are initializing TFBartForSequenceClassification from a PyTorch model trained on another task or with another architecture (e.g. initializing a TFBertForSequenceClassification model from a BertForPreTraining model).\n",
      "- This IS NOT expected if you are initializing TFBartForSequenceClassification from a PyTorch model that you expect to be exactly identical (e.g. initializing a TFBertForSequenceClassification model from a BertForSequenceClassification model).\n",
      "All the weights of TFBartForSequenceClassification were initialized from the PyTorch model.\n",
      "If your task is similar to the task the model of the checkpoint was trained on, you can already use TFBartForSequenceClassification for predictions without further training.\n"
     ]
    },
    {
     "data": {
      "text/plain": "Downloading tokenizer_config.json:   0%|          | 0.00/26.0 [00:00<?, ?B/s]",
      "application/vnd.jupyter.widget-view+json": {
       "version_major": 2,
       "version_minor": 0,
       "model_id": "49afd443bfcd46efaf60c1020140d4f7"
      }
     },
     "metadata": {},
     "output_type": "display_data"
    },
    {
     "data": {
      "text/plain": "Downloading vocab.json:   0%|          | 0.00/899k [00:00<?, ?B/s]",
      "application/vnd.jupyter.widget-view+json": {
       "version_major": 2,
       "version_minor": 0,
       "model_id": "357cf6c300484477a008a456f12ad97b"
      }
     },
     "metadata": {},
     "output_type": "display_data"
    },
    {
     "data": {
      "text/plain": "Downloading merges.txt:   0%|          | 0.00/456k [00:00<?, ?B/s]",
      "application/vnd.jupyter.widget-view+json": {
       "version_major": 2,
       "version_minor": 0,
       "model_id": "475445c82c0f4134a80d372f1fb01343"
      }
     },
     "metadata": {},
     "output_type": "display_data"
    },
    {
     "data": {
      "text/plain": "Downloading tokenizer.json:   0%|          | 0.00/1.36M [00:00<?, ?B/s]",
      "application/vnd.jupyter.widget-view+json": {
       "version_major": 2,
       "version_minor": 0,
       "model_id": "dfb9353a34e141b9b877ef6f5948f8da"
      }
     },
     "metadata": {},
     "output_type": "display_data"
    },
    {
     "name": "stdout",
     "output_type": "stream",
     "text": [
      "Fetching documents from the collection...\n",
      "Classifying the documents...\n",
      "Processing batch 1/1...\n"
     ]
    },
    {
     "ename": "ValueError",
     "evalue": "Unknown attribute 'device' is encountered while parsing the device spec: '/device:GPU:cuda:0'.",
     "output_type": "error",
     "traceback": [
      "\u001B[1;31m---------------------------------------------------------------------------\u001B[0m",
      "\u001B[1;31mKeyError\u001B[0m                                  Traceback (most recent call last)",
      "File \u001B[1;32m~\\Documents\\GitHub\\VUACode\\.venv\\Lib\\site-packages\\tensorflow\\python\\eager\\context.py:2168\u001B[0m, in \u001B[0;36m_EagerDeviceContext.__enter__\u001B[1;34m(self)\u001B[0m\n\u001B[0;32m   2167\u001B[0m \u001B[38;5;28;01mtry\u001B[39;00m:\n\u001B[1;32m-> 2168\u001B[0m   new_device_name, new_device_spec \u001B[38;5;241m=\u001B[39m \u001B[43m_device_parsing_cache\u001B[49m\u001B[43m[\u001B[49m\u001B[43mcache_key\u001B[49m\u001B[43m]\u001B[49m\n\u001B[0;32m   2169\u001B[0m \u001B[38;5;28;01mexcept\u001B[39;00m \u001B[38;5;167;01mTypeError\u001B[39;00m:\n\u001B[0;32m   2170\u001B[0m   \u001B[38;5;66;03m# Error while trying to compute the cache key.\u001B[39;00m\n",
      "\u001B[1;31mKeyError\u001B[0m: ('', '/device:GPU:cuda:0')",
      "\nDuring handling of the above exception, another exception occurred:\n",
      "\u001B[1;31mValueError\u001B[0m                                Traceback (most recent call last)",
      "Cell \u001B[1;32mIn[2], line 76\u001B[0m\n\u001B[0;32m     72\u001B[0m     classify_documents(collection, all_docs)\n\u001B[0;32m     75\u001B[0m \u001B[38;5;28;01mif\u001B[39;00m \u001B[38;5;18m__name__\u001B[39m \u001B[38;5;241m==\u001B[39m \u001B[38;5;124m\"\u001B[39m\u001B[38;5;124m__main__\u001B[39m\u001B[38;5;124m\"\u001B[39m:\n\u001B[1;32m---> 76\u001B[0m     \u001B[43mmain\u001B[49m\u001B[43m(\u001B[49m\u001B[43m)\u001B[49m\n",
      "Cell \u001B[1;32mIn[2], line 72\u001B[0m, in \u001B[0;36mmain\u001B[1;34m()\u001B[0m\n\u001B[0;32m     70\u001B[0m \u001B[38;5;28;01mdef\u001B[39;00m \u001B[38;5;21mmain\u001B[39m():\n\u001B[0;32m     71\u001B[0m     all_docs \u001B[38;5;241m=\u001B[39m fetch_documents(collection)\n\u001B[1;32m---> 72\u001B[0m     \u001B[43mclassify_documents\u001B[49m\u001B[43m(\u001B[49m\u001B[43mcollection\u001B[49m\u001B[43m,\u001B[49m\u001B[43m \u001B[49m\u001B[43mall_docs\u001B[49m\u001B[43m)\u001B[49m\n",
      "Cell \u001B[1;32mIn[2], line 45\u001B[0m, in \u001B[0;36mclassify_documents\u001B[1;34m(collection, all_docs)\u001B[0m\n\u001B[0;32m     43\u001B[0m \u001B[38;5;28mprint\u001B[39m(\u001B[38;5;124mf\u001B[39m\u001B[38;5;124m\"\u001B[39m\u001B[38;5;124mProcessing batch \u001B[39m\u001B[38;5;132;01m{\u001B[39;00mbatch_num\u001B[38;5;132;01m}\u001B[39;00m\u001B[38;5;124m/\u001B[39m\u001B[38;5;132;01m{\u001B[39;00mtotal_batches\u001B[38;5;132;01m}\u001B[39;00m\u001B[38;5;124m...\u001B[39m\u001B[38;5;124m\"\u001B[39m)\n\u001B[0;32m     44\u001B[0m batch \u001B[38;5;241m=\u001B[39m all_docs[i:i \u001B[38;5;241m+\u001B[39m BATCH_SIZE]\n\u001B[1;32m---> 45\u001B[0m classified_batch \u001B[38;5;241m=\u001B[39m \u001B[43mCLASSIFIER\u001B[49m\u001B[43m(\u001B[49m\u001B[43m[\u001B[49m\u001B[43mdoc\u001B[49m\u001B[43m[\u001B[49m\u001B[38;5;241;43m1\u001B[39;49m\u001B[43m]\u001B[49m\u001B[43m \u001B[49m\u001B[38;5;28;43;01mfor\u001B[39;49;00m\u001B[43m \u001B[49m\u001B[43mdoc\u001B[49m\u001B[43m \u001B[49m\u001B[38;5;129;43;01min\u001B[39;49;00m\u001B[43m \u001B[49m\u001B[43mbatch\u001B[49m\u001B[43m]\u001B[49m\u001B[43m,\u001B[49m\u001B[43m \u001B[49m\u001B[43mINPUT_LABELS\u001B[49m\u001B[43m,\u001B[49m\u001B[43m \u001B[49m\u001B[43mmulti_label\u001B[49m\u001B[38;5;241;43m=\u001B[39;49m\u001B[38;5;28;43;01mTrue\u001B[39;49;00m\u001B[43m)\u001B[49m\n\u001B[0;32m     46\u001B[0m \u001B[38;5;28;01mfor\u001B[39;00m doc, result \u001B[38;5;129;01min\u001B[39;00m \u001B[38;5;28mzip\u001B[39m(batch, classified_batch):\n\u001B[0;32m     47\u001B[0m     doc_id \u001B[38;5;241m=\u001B[39m doc[\u001B[38;5;241m0\u001B[39m]\n",
      "File \u001B[1;32m~\\Documents\\GitHub\\VUACode\\.venv\\Lib\\site-packages\\transformers\\pipelines\\zero_shot_classification.py:206\u001B[0m, in \u001B[0;36mZeroShotClassificationPipeline.__call__\u001B[1;34m(self, sequences, *args, **kwargs)\u001B[0m\n\u001B[0;32m    203\u001B[0m \u001B[38;5;28;01melse\u001B[39;00m:\n\u001B[0;32m    204\u001B[0m     \u001B[38;5;28;01mraise\u001B[39;00m \u001B[38;5;167;01mValueError\u001B[39;00m(\u001B[38;5;124mf\u001B[39m\u001B[38;5;124m\"\u001B[39m\u001B[38;5;124mUnable to understand extra arguments \u001B[39m\u001B[38;5;132;01m{\u001B[39;00margs\u001B[38;5;132;01m}\u001B[39;00m\u001B[38;5;124m\"\u001B[39m)\n\u001B[1;32m--> 206\u001B[0m \u001B[38;5;28;01mreturn\u001B[39;00m \u001B[38;5;28;43msuper\u001B[39;49m\u001B[43m(\u001B[49m\u001B[43m)\u001B[49m\u001B[38;5;241;43m.\u001B[39;49m\u001B[38;5;21;43m__call__\u001B[39;49m\u001B[43m(\u001B[49m\u001B[43msequences\u001B[49m\u001B[43m,\u001B[49m\u001B[43m \u001B[49m\u001B[38;5;241;43m*\u001B[39;49m\u001B[38;5;241;43m*\u001B[39;49m\u001B[43mkwargs\u001B[49m\u001B[43m)\u001B[49m\n",
      "File \u001B[1;32m~\\Documents\\GitHub\\VUACode\\.venv\\Lib\\site-packages\\transformers\\pipelines\\base.py:1124\u001B[0m, in \u001B[0;36mPipeline.__call__\u001B[1;34m(self, inputs, num_workers, batch_size, *args, **kwargs)\u001B[0m\n\u001B[0;32m   1122\u001B[0m         \u001B[38;5;28;01mreturn\u001B[39;00m outputs\n\u001B[0;32m   1123\u001B[0m     \u001B[38;5;28;01melse\u001B[39;00m:\n\u001B[1;32m-> 1124\u001B[0m         \u001B[38;5;28;01mreturn\u001B[39;00m \u001B[38;5;28;43mself\u001B[39;49m\u001B[38;5;241;43m.\u001B[39;49m\u001B[43mrun_multi\u001B[49m\u001B[43m(\u001B[49m\u001B[43minputs\u001B[49m\u001B[43m,\u001B[49m\u001B[43m \u001B[49m\u001B[43mpreprocess_params\u001B[49m\u001B[43m,\u001B[49m\u001B[43m \u001B[49m\u001B[43mforward_params\u001B[49m\u001B[43m,\u001B[49m\u001B[43m \u001B[49m\u001B[43mpostprocess_params\u001B[49m\u001B[43m)\u001B[49m\n\u001B[0;32m   1125\u001B[0m \u001B[38;5;28;01melif\u001B[39;00m can_use_iterator:\n\u001B[0;32m   1126\u001B[0m     \u001B[38;5;28;01mreturn\u001B[39;00m \u001B[38;5;28mself\u001B[39m\u001B[38;5;241m.\u001B[39mget_iterator(\n\u001B[0;32m   1127\u001B[0m         inputs, num_workers, batch_size, preprocess_params, forward_params, postprocess_params\n\u001B[0;32m   1128\u001B[0m     )\n",
      "File \u001B[1;32m~\\Documents\\GitHub\\VUACode\\.venv\\Lib\\site-packages\\transformers\\pipelines\\base.py:1143\u001B[0m, in \u001B[0;36mPipeline.run_multi\u001B[1;34m(self, inputs, preprocess_params, forward_params, postprocess_params)\u001B[0m\n\u001B[0;32m   1142\u001B[0m \u001B[38;5;28;01mdef\u001B[39;00m \u001B[38;5;21mrun_multi\u001B[39m(\u001B[38;5;28mself\u001B[39m, inputs, preprocess_params, forward_params, postprocess_params):\n\u001B[1;32m-> 1143\u001B[0m     \u001B[38;5;28;01mreturn\u001B[39;00m \u001B[43m[\u001B[49m\u001B[38;5;28;43mself\u001B[39;49m\u001B[38;5;241;43m.\u001B[39;49m\u001B[43mrun_single\u001B[49m\u001B[43m(\u001B[49m\u001B[43mitem\u001B[49m\u001B[43m,\u001B[49m\u001B[43m \u001B[49m\u001B[43mpreprocess_params\u001B[49m\u001B[43m,\u001B[49m\u001B[43m \u001B[49m\u001B[43mforward_params\u001B[49m\u001B[43m,\u001B[49m\u001B[43m \u001B[49m\u001B[43mpostprocess_params\u001B[49m\u001B[43m)\u001B[49m\u001B[43m \u001B[49m\u001B[38;5;28;43;01mfor\u001B[39;49;00m\u001B[43m \u001B[49m\u001B[43mitem\u001B[49m\u001B[43m \u001B[49m\u001B[38;5;129;43;01min\u001B[39;49;00m\u001B[43m \u001B[49m\u001B[43minputs\u001B[49m\u001B[43m]\u001B[49m\n",
      "File \u001B[1;32m~\\Documents\\GitHub\\VUACode\\.venv\\Lib\\site-packages\\transformers\\pipelines\\base.py:1143\u001B[0m, in \u001B[0;36m<listcomp>\u001B[1;34m(.0)\u001B[0m\n\u001B[0;32m   1142\u001B[0m \u001B[38;5;28;01mdef\u001B[39;00m \u001B[38;5;21mrun_multi\u001B[39m(\u001B[38;5;28mself\u001B[39m, inputs, preprocess_params, forward_params, postprocess_params):\n\u001B[1;32m-> 1143\u001B[0m     \u001B[38;5;28;01mreturn\u001B[39;00m [\u001B[38;5;28;43mself\u001B[39;49m\u001B[38;5;241;43m.\u001B[39;49m\u001B[43mrun_single\u001B[49m\u001B[43m(\u001B[49m\u001B[43mitem\u001B[49m\u001B[43m,\u001B[49m\u001B[43m \u001B[49m\u001B[43mpreprocess_params\u001B[49m\u001B[43m,\u001B[49m\u001B[43m \u001B[49m\u001B[43mforward_params\u001B[49m\u001B[43m,\u001B[49m\u001B[43m \u001B[49m\u001B[43mpostprocess_params\u001B[49m\u001B[43m)\u001B[49m \u001B[38;5;28;01mfor\u001B[39;00m item \u001B[38;5;129;01min\u001B[39;00m inputs]\n",
      "File \u001B[1;32m~\\Documents\\GitHub\\VUACode\\.venv\\Lib\\site-packages\\transformers\\pipelines\\base.py:1162\u001B[0m, in \u001B[0;36mChunkPipeline.run_single\u001B[1;34m(self, inputs, preprocess_params, forward_params, postprocess_params)\u001B[0m\n\u001B[0;32m   1160\u001B[0m all_outputs \u001B[38;5;241m=\u001B[39m []\n\u001B[0;32m   1161\u001B[0m \u001B[38;5;28;01mfor\u001B[39;00m model_inputs \u001B[38;5;129;01min\u001B[39;00m \u001B[38;5;28mself\u001B[39m\u001B[38;5;241m.\u001B[39mpreprocess(inputs, \u001B[38;5;241m*\u001B[39m\u001B[38;5;241m*\u001B[39mpreprocess_params):\n\u001B[1;32m-> 1162\u001B[0m     model_outputs \u001B[38;5;241m=\u001B[39m \u001B[38;5;28;43mself\u001B[39;49m\u001B[38;5;241;43m.\u001B[39;49m\u001B[43mforward\u001B[49m\u001B[43m(\u001B[49m\u001B[43mmodel_inputs\u001B[49m\u001B[43m,\u001B[49m\u001B[43m \u001B[49m\u001B[38;5;241;43m*\u001B[39;49m\u001B[38;5;241;43m*\u001B[39;49m\u001B[43mforward_params\u001B[49m\u001B[43m)\u001B[49m\n\u001B[0;32m   1163\u001B[0m     all_outputs\u001B[38;5;241m.\u001B[39mappend(model_outputs)\n\u001B[0;32m   1164\u001B[0m outputs \u001B[38;5;241m=\u001B[39m \u001B[38;5;28mself\u001B[39m\u001B[38;5;241m.\u001B[39mpostprocess(all_outputs, \u001B[38;5;241m*\u001B[39m\u001B[38;5;241m*\u001B[39mpostprocess_params)\n",
      "File \u001B[1;32m~\\Documents\\GitHub\\VUACode\\.venv\\Lib\\site-packages\\transformers\\pipelines\\base.py:1038\u001B[0m, in \u001B[0;36mPipeline.forward\u001B[1;34m(self, model_inputs, **forward_params)\u001B[0m\n\u001B[0;32m   1037\u001B[0m \u001B[38;5;28;01mdef\u001B[39;00m \u001B[38;5;21mforward\u001B[39m(\u001B[38;5;28mself\u001B[39m, model_inputs, \u001B[38;5;241m*\u001B[39m\u001B[38;5;241m*\u001B[39mforward_params):\n\u001B[1;32m-> 1038\u001B[0m \u001B[43m    \u001B[49m\u001B[38;5;28;43;01mwith\u001B[39;49;00m\u001B[43m \u001B[49m\u001B[38;5;28;43mself\u001B[39;49m\u001B[38;5;241;43m.\u001B[39;49m\u001B[43mdevice_placement\u001B[49m\u001B[43m(\u001B[49m\u001B[43m)\u001B[49m\u001B[43m:\u001B[49m\n\u001B[0;32m   1039\u001B[0m \u001B[43m        \u001B[49m\u001B[38;5;28;43;01mif\u001B[39;49;00m\u001B[43m \u001B[49m\u001B[38;5;28;43mself\u001B[39;49m\u001B[38;5;241;43m.\u001B[39;49m\u001B[43mframework\u001B[49m\u001B[43m \u001B[49m\u001B[38;5;241;43m==\u001B[39;49m\u001B[43m \u001B[49m\u001B[38;5;124;43m\"\u001B[39;49m\u001B[38;5;124;43mtf\u001B[39;49m\u001B[38;5;124;43m\"\u001B[39;49m\u001B[43m:\u001B[49m\n\u001B[0;32m   1040\u001B[0m \u001B[43m            \u001B[49m\u001B[43mmodel_inputs\u001B[49m\u001B[43m[\u001B[49m\u001B[38;5;124;43m\"\u001B[39;49m\u001B[38;5;124;43mtraining\u001B[39;49m\u001B[38;5;124;43m\"\u001B[39;49m\u001B[43m]\u001B[49m\u001B[43m \u001B[49m\u001B[38;5;241;43m=\u001B[39;49m\u001B[43m \u001B[49m\u001B[38;5;28;43;01mFalse\u001B[39;49;00m\n",
      "File \u001B[1;32m~\\AppData\\Local\\Programs\\Python\\Python311\\Lib\\contextlib.py:137\u001B[0m, in \u001B[0;36m_GeneratorContextManager.__enter__\u001B[1;34m(self)\u001B[0m\n\u001B[0;32m    135\u001B[0m \u001B[38;5;28;01mdel\u001B[39;00m \u001B[38;5;28mself\u001B[39m\u001B[38;5;241m.\u001B[39margs, \u001B[38;5;28mself\u001B[39m\u001B[38;5;241m.\u001B[39mkwds, \u001B[38;5;28mself\u001B[39m\u001B[38;5;241m.\u001B[39mfunc\n\u001B[0;32m    136\u001B[0m \u001B[38;5;28;01mtry\u001B[39;00m:\n\u001B[1;32m--> 137\u001B[0m     \u001B[38;5;28;01mreturn\u001B[39;00m \u001B[38;5;28mnext\u001B[39m(\u001B[38;5;28mself\u001B[39m\u001B[38;5;241m.\u001B[39mgen)\n\u001B[0;32m    138\u001B[0m \u001B[38;5;28;01mexcept\u001B[39;00m \u001B[38;5;167;01mStopIteration\u001B[39;00m:\n\u001B[0;32m    139\u001B[0m     \u001B[38;5;28;01mraise\u001B[39;00m \u001B[38;5;167;01mRuntimeError\u001B[39;00m(\u001B[38;5;124m\"\u001B[39m\u001B[38;5;124mgenerator didn\u001B[39m\u001B[38;5;124m'\u001B[39m\u001B[38;5;124mt yield\u001B[39m\u001B[38;5;124m\"\u001B[39m) \u001B[38;5;28;01mfrom\u001B[39;00m \u001B[38;5;28;01mNone\u001B[39;00m\n",
      "File \u001B[1;32m~\\Documents\\GitHub\\VUACode\\.venv\\Lib\\site-packages\\transformers\\pipelines\\base.py:919\u001B[0m, in \u001B[0;36mPipeline.device_placement\u001B[1;34m(self)\u001B[0m\n\u001B[0;32m    903\u001B[0m \u001B[38;5;250m\u001B[39m\u001B[38;5;124;03m\"\"\"\u001B[39;00m\n\u001B[0;32m    904\u001B[0m \u001B[38;5;124;03mContext Manager allowing tensor allocation on the user-specified device in framework agnostic way.\u001B[39;00m\n\u001B[0;32m    905\u001B[0m \n\u001B[1;32m   (...)\u001B[0m\n\u001B[0;32m    916\u001B[0m \u001B[38;5;124;03m    output = pipe(...)\u001B[39;00m\n\u001B[0;32m    917\u001B[0m \u001B[38;5;124;03m```\"\"\"\u001B[39;00m\n\u001B[0;32m    918\u001B[0m \u001B[38;5;28;01mif\u001B[39;00m \u001B[38;5;28mself\u001B[39m\u001B[38;5;241m.\u001B[39mframework \u001B[38;5;241m==\u001B[39m \u001B[38;5;124m\"\u001B[39m\u001B[38;5;124mtf\u001B[39m\u001B[38;5;124m\"\u001B[39m:\n\u001B[1;32m--> 919\u001B[0m \u001B[43m    \u001B[49m\u001B[38;5;28;43;01mwith\u001B[39;49;00m\u001B[43m \u001B[49m\u001B[43mtf\u001B[49m\u001B[38;5;241;43m.\u001B[39;49m\u001B[43mdevice\u001B[49m\u001B[43m(\u001B[49m\u001B[38;5;124;43m\"\u001B[39;49m\u001B[38;5;124;43m/CPU:0\u001B[39;49m\u001B[38;5;124;43m\"\u001B[39;49m\u001B[43m \u001B[49m\u001B[38;5;28;43;01mif\u001B[39;49;00m\u001B[43m \u001B[49m\u001B[38;5;28;43mself\u001B[39;49m\u001B[38;5;241;43m.\u001B[39;49m\u001B[43mdevice\u001B[49m\u001B[43m \u001B[49m\u001B[38;5;241;43m==\u001B[39;49m\u001B[43m \u001B[49m\u001B[38;5;241;43m-\u001B[39;49m\u001B[38;5;241;43m1\u001B[39;49m\u001B[43m \u001B[49m\u001B[38;5;28;43;01melse\u001B[39;49;00m\u001B[43m \u001B[49m\u001B[38;5;124;43mf\u001B[39;49m\u001B[38;5;124;43m\"\u001B[39;49m\u001B[38;5;124;43m/device:GPU:\u001B[39;49m\u001B[38;5;132;43;01m{\u001B[39;49;00m\u001B[38;5;28;43mself\u001B[39;49m\u001B[38;5;241;43m.\u001B[39;49m\u001B[43mdevice\u001B[49m\u001B[38;5;132;43;01m}\u001B[39;49;00m\u001B[38;5;124;43m\"\u001B[39;49m\u001B[43m)\u001B[49m\u001B[43m:\u001B[49m\n\u001B[0;32m    920\u001B[0m \u001B[43m        \u001B[49m\u001B[38;5;28;43;01myield\u001B[39;49;00m\n\u001B[0;32m    921\u001B[0m \u001B[38;5;28;01melse\u001B[39;00m:\n",
      "File \u001B[1;32m~\\Documents\\GitHub\\VUACode\\.venv\\Lib\\site-packages\\tensorflow\\python\\eager\\context.py:2179\u001B[0m, in \u001B[0;36m_EagerDeviceContext.__enter__\u001B[1;34m(self)\u001B[0m\n\u001B[0;32m   2176\u001B[0m \u001B[38;5;28;01mif\u001B[39;00m \u001B[38;5;129;01mnot\u001B[39;00m \u001B[38;5;28misinstance\u001B[39m(new_device_name, \u001B[38;5;28mstr\u001B[39m):\n\u001B[0;32m   2177\u001B[0m   \u001B[38;5;28;01mraise\u001B[39;00m \u001B[38;5;167;01mValueError\u001B[39;00m(\u001B[38;5;124m\"\u001B[39m\u001B[38;5;124mExpecting a string device name. Got \u001B[39m\u001B[38;5;132;01m%s\u001B[39;00m\u001B[38;5;124m(\u001B[39m\u001B[38;5;132;01m%s\u001B[39;00m\u001B[38;5;124m)\u001B[39m\u001B[38;5;124m\"\u001B[39m \u001B[38;5;241m%\u001B[39m\n\u001B[0;32m   2178\u001B[0m                    (\u001B[38;5;28mtype\u001B[39m(new_device_name), new_device_name))\n\u001B[1;32m-> 2179\u001B[0m device_spec \u001B[38;5;241m=\u001B[39m \u001B[43mpydev\u001B[49m\u001B[38;5;241;43m.\u001B[39;49m\u001B[43mDeviceSpec\u001B[49m\u001B[38;5;241;43m.\u001B[39;49m\u001B[43mfrom_string\u001B[49m\u001B[43m(\u001B[49m\u001B[43mnew_device_name\u001B[49m\u001B[43m)\u001B[49m\n\u001B[0;32m   2180\u001B[0m \u001B[38;5;28;01mif\u001B[39;00m old_device_name:\n\u001B[0;32m   2181\u001B[0m   new_device_spec \u001B[38;5;241m=\u001B[39m copy\u001B[38;5;241m.\u001B[39mcopy(old_device_spec)\n",
      "File \u001B[1;32m~\\Documents\\GitHub\\VUACode\\.venv\\Lib\\site-packages\\tensorflow\\python\\framework\\device_spec.py:158\u001B[0m, in \u001B[0;36mDeviceSpecV2.from_string\u001B[1;34m(cls, spec)\u001B[0m\n\u001B[0;32m    145\u001B[0m \u001B[38;5;129m@classmethod\u001B[39m\n\u001B[0;32m    146\u001B[0m \u001B[38;5;28;01mdef\u001B[39;00m \u001B[38;5;21mfrom_string\u001B[39m(\u001B[38;5;28mcls\u001B[39m, spec):\n\u001B[0;32m    147\u001B[0m \u001B[38;5;250m  \u001B[39m\u001B[38;5;124;03m\"\"\"Construct a `DeviceSpec` from a string.\u001B[39;00m\n\u001B[0;32m    148\u001B[0m \n\u001B[0;32m    149\u001B[0m \u001B[38;5;124;03m  Args:\u001B[39;00m\n\u001B[1;32m   (...)\u001B[0m\n\u001B[0;32m    156\u001B[0m \u001B[38;5;124;03m    A DeviceSpec.\u001B[39;00m\n\u001B[0;32m    157\u001B[0m \u001B[38;5;124;03m  \"\"\"\u001B[39;00m\n\u001B[1;32m--> 158\u001B[0m   \u001B[38;5;28;01mreturn\u001B[39;00m \u001B[38;5;28mcls\u001B[39m(\u001B[38;5;241m*\u001B[39m\u001B[38;5;28;43mcls\u001B[39;49m\u001B[38;5;241;43m.\u001B[39;49m\u001B[43m_string_to_components\u001B[49m\u001B[43m(\u001B[49m\u001B[43mspec\u001B[49m\u001B[43m)\u001B[49m)\n",
      "File \u001B[1;32m~\\Documents\\GitHub\\VUACode\\.venv\\Lib\\site-packages\\tensorflow\\python\\framework\\device_spec.py:362\u001B[0m, in \u001B[0;36mDeviceSpecV2._string_to_components\u001B[1;34m(spec)\u001B[0m\n\u001B[0;32m    360\u001B[0m         device_index \u001B[38;5;241m=\u001B[39m \u001B[38;5;28mint\u001B[39m(y[\u001B[38;5;241m2\u001B[39m])\n\u001B[0;32m    361\u001B[0m     \u001B[38;5;28;01melif\u001B[39;00m ly \u001B[38;5;129;01mand\u001B[39;00m y[\u001B[38;5;241m0\u001B[39m] \u001B[38;5;241m!=\u001B[39m \u001B[38;5;124m\"\u001B[39m\u001B[38;5;124m\"\u001B[39m:  \u001B[38;5;66;03m# pylint: disable=g-explicit-bool-comparison\u001B[39;00m\n\u001B[1;32m--> 362\u001B[0m       \u001B[38;5;28;01mraise\u001B[39;00m \u001B[38;5;167;01mValueError\u001B[39;00m(\u001B[38;5;124mf\u001B[39m\u001B[38;5;124m\"\u001B[39m\u001B[38;5;124mUnknown attribute \u001B[39m\u001B[38;5;124m'\u001B[39m\u001B[38;5;132;01m{\u001B[39;00my[\u001B[38;5;241m0\u001B[39m]\u001B[38;5;132;01m}\u001B[39;00m\u001B[38;5;124m'\u001B[39m\u001B[38;5;124m is encountered \u001B[39m\u001B[38;5;124m\"\u001B[39m\n\u001B[0;32m    363\u001B[0m                        \u001B[38;5;124mf\u001B[39m\u001B[38;5;124m\"\u001B[39m\u001B[38;5;124mwhile parsing the device spec: \u001B[39m\u001B[38;5;124m'\u001B[39m\u001B[38;5;132;01m{\u001B[39;00mspec\u001B[38;5;132;01m}\u001B[39;00m\u001B[38;5;124m'\u001B[39m\u001B[38;5;124m.\u001B[39m\u001B[38;5;124m\"\u001B[39m)\n\u001B[0;32m    365\u001B[0m output \u001B[38;5;241m=\u001B[39m (job, replica, task, device_type, device_index)\n\u001B[0;32m    366\u001B[0m _STRING_TO_COMPONENTS_CACHE[raw_spec] \u001B[38;5;241m=\u001B[39m output\n",
      "\u001B[1;31mValueError\u001B[0m: Unknown attribute 'device' is encountered while parsing the device spec: '/device:GPU:cuda:0'."
     ]
    }
   ],
   "source": [
    "from transformers import pipeline\n",
    "# Global Variables\n",
    "\n",
    "CLASSIFIER = pipeline(\"zero-shot-classification\", model=\"facebook/bart-large-mnli\", device=\"cuda:0\")\n",
    "INPUT_LABELS = [\n",
    "    \"Genetic Factors\",\n",
    "    \"Hormonal Factors\",\n",
    "    \"Epidemiological Factors\",\n",
    "    \"Methodologies in DZ twinning\",\n",
    "    \"Comparative Studies\",\n",
    "    \"Reproductive Traits\",\n",
    "    \"Animal Models in Twinning Research\",\n",
    "    \"Twinning Rates\"]\n",
    "\n",
    "BATCH_SIZE = 128\n",
    "\n",
    "def fetch_documents(collection, limit=10):\n",
    "    print(\"Fetching documents from the collection...\")\n",
    "    documents = collection.find({\"classification\": {\"$exists\": False}}).limit(limit)\n",
    "    all_docs = []\n",
    "    if documents is not None:\n",
    "        for doc in documents:\n",
    "            doc_text = f\"{doc['title']} {doc['abstract']}\"\n",
    "            all_docs.append((doc[\"_id\"], doc_text))\n",
    "    return all_docs\n",
    "\n",
    "\n",
    "def classify_document(document, doc_id):\n",
    "    result = CLASSIFIER(document, INPUT_LABELS, multi_label=True)\n",
    "    processed_result = process_classification_result(result['labels'], result['scores'])\n",
    "    return doc_id, processed_result\n",
    "\n",
    "\n",
    "def classify_documents(collection, all_docs):\n",
    "    print(\"Classifying the documents...\")\n",
    "\n",
    "    total_docs = len(all_docs)\n",
    "    total_batches = (total_docs + BATCH_SIZE - 1) // BATCH_SIZE\n",
    "\n",
    "    results = []\n",
    "    for i in range(0, total_docs, BATCH_SIZE):\n",
    "        batch_num = i // BATCH_SIZE + 1\n",
    "        print(f\"Processing batch {batch_num}/{total_batches}...\")\n",
    "        batch = all_docs[i:i + BATCH_SIZE]\n",
    "        classified_batch = CLASSIFIER([doc[1] for doc in batch], INPUT_LABELS, multi_label=True)\n",
    "        for doc, result in zip(batch, classified_batch):\n",
    "            doc_id = doc[0]\n",
    "            processed_result = process_classification_result(result['labels'], result['scores'])\n",
    "            results.append((doc_id, processed_result))\n",
    "\n",
    "    print(\"Updating documents with classification data...\")\n",
    "    for i, (doc_id, update_data) in enumerate(results, 1):\n",
    "        print(f\"Updating document {i}/{total_docs}...\")\n",
    "        update_document(doc_id, update_data, collection)\n",
    "\n",
    "\n",
    "def process_classification_result(labels, scores):\n",
    "    classification = {}\n",
    "    for label, score in zip(labels, scores):\n",
    "        new_label = label.lower().replace(\" \", \"_\")\n",
    "        classification[new_label] = round(score, 4)\n",
    "\n",
    "    return {\"classification\": classification}\n",
    "\n",
    "\n",
    "def update_document(doc_id, update_data, collection):\n",
    "    collection.update_one({\"_id\": doc_id},\n",
    "                          {\"$set\": update_data})\n",
    "\n",
    "def main():\n",
    "    all_docs = fetch_documents(collection)\n",
    "    classify_documents(collection, all_docs)\n",
    "\n",
    "\n",
    "if __name__ == \"__main__\":\n",
    "    main()\n"
   ],
   "metadata": {
    "collapsed": false,
    "ExecuteTime": {
     "end_time": "2023-12-04T04:38:41.611134300Z",
     "start_time": "2023-12-04T04:38:10.093985900Z"
    }
   }
  },
  {
   "cell_type": "code",
   "execution_count": 4,
   "outputs": [
    {
     "name": "stdout",
     "output_type": "stream",
     "text": [
      "CUDA is not available.\n",
      "You cannot run the script with CUDA. Check your CUDA installation or GPU compatibility.\n"
     ]
    }
   ],
   "source": [
    "import torch\n",
    "\n",
    "def check_cuda_compatibility():\n",
    "    cuda_available = torch.cuda.is_available()\n",
    "    if cuda_available:\n",
    "        print(\"CUDA is available.\")\n",
    "        print(f\"Number of GPUs available: {torch.cuda.device_count()}\")\n",
    "        for i in range(torch.cuda.device_count()):\n",
    "            print(f\"GPU {i}: {torch.cuda.get_device_name(i)}\")\n",
    "        return True\n",
    "    else:\n",
    "        print(\"CUDA is not available.\")\n",
    "        return False\n",
    "\n",
    "if __name__ == \"__main__\":\n",
    "    cuda_compatible = check_cuda_compatibility()\n",
    "    if cuda_compatible:\n",
    "        print(\"You can run the script with CUDA.\")\n",
    "    else:\n",
    "        print(\"You cannot run the script with CUDA. Check your CUDA installation or GPU compatibility.\")\n"
   ],
   "metadata": {
    "collapsed": false,
    "ExecuteTime": {
     "end_time": "2023-12-04T04:42:19.362646Z",
     "start_time": "2023-12-04T04:42:18.020562400Z"
    }
   }
  }
 ],
 "metadata": {
  "kernelspec": {
   "display_name": "Python 3",
   "language": "python",
   "name": "python3"
  },
  "language_info": {
   "codemirror_mode": {
    "name": "ipython",
    "version": 2
   },
   "file_extension": ".py",
   "mimetype": "text/x-python",
   "name": "python",
   "nbconvert_exporter": "python",
   "pygments_lexer": "ipython2",
   "version": "2.7.6"
  }
 },
 "nbformat": 4,
 "nbformat_minor": 0
}
