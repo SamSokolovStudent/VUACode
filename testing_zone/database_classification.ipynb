{
 "cells": [
  {
   "cell_type": "code",
   "execution_count": 9,
   "outputs": [],
   "source": [
    "import os\n",
    "from dotenv import load_dotenv\n",
    "from pymongo import MongoClient\n",
    "# Load environment variables\n",
    "dotenv_path = r'C:\\Users\\Soko\\Documents\\GitHub\\VUACode\\.env'\n",
    "load_dotenv(dotenv_path)\n",
    "mongodb_uri = os.getenv('MONGODB_URI')\n",
    "\n",
    "# Connect to MongoDB\n",
    "client = MongoClient(mongodb_uri)\n",
    "db = client['twinning_papers']\n",
    "collection = db['papers']\n"
   ],
   "metadata": {
    "collapsed": false,
    "ExecuteTime": {
     "end_time": "2023-12-04T05:48:51.391516600Z",
     "start_time": "2023-12-04T05:48:51.345814Z"
    }
   }
  },
  {
   "cell_type": "code",
   "execution_count": 22,
   "outputs": [
    {
     "name": "stdout",
     "output_type": "stream",
     "text": [
      "Fetching documents from the collection...\n",
      "Classifying the documents...\n"
     ]
    },
    {
     "name": "stderr",
     "output_type": "stream",
     "text": [
      "Classifying:  56%|█████▌    | 10/18 [07:52<06:12, 46.57s/it]C:\\Users\\Soko\\AppData\\Local\\Packages\\PythonSoftwareFoundation.Python.3.11_qbz5n2kfra8p0\\LocalCache\\local-packages\\Python311\\site-packages\\transformers\\pipelines\\base.py:1101: UserWarning: You seem to be using the pipelines sequentially on GPU. In order to maximize efficiency please use a dataset\n",
      "  warnings.warn(\n",
      "Classifying: 100%|██████████| 18/18 [13:28<00:00, 44.94s/it]\n"
     ]
    },
    {
     "name": "stdout",
     "output_type": "stream",
     "text": [
      "Updating documents with classification data...\n"
     ]
    },
    {
     "name": "stderr",
     "output_type": "stream",
     "text": [
      "Updating Documents: 100%|██████████| 4548/4548 [07:20<00:00, 10.31it/s]\n"
     ]
    }
   ],
   "source": [
    "from transformers import pipeline\n",
    "from tqdm import tqdm\n",
    "# Global Variables\n",
    "\n",
    "CLASSIFIER = pipeline(\"zero-shot-classification\", model=\"facebook/bart-large-mnli\", device=\"cuda:0\")\n",
    "INPUT_LABELS = [\n",
    "    \"Genetic Factors\",\n",
    "    \"Hormonal Factors\",\n",
    "    \"Epidemiological Factors\",\n",
    "    \"Methodologies in DZ twinning\",\n",
    "    \"Comparative Studies\",\n",
    "    \"Reproductive Traits\",\n",
    "    \"Animal Models in Twinning Research\",\n",
    "    \"Twinning Rates\"]\n",
    "\n",
    "BATCH_SIZE = 256\n",
    "\n",
    "def fetch_documents(collection):\n",
    "    print(\"Fetching documents from the collection...\")\n",
    "    documents = collection.find({\"classification\": {\"$exists\": False}})\n",
    "    all_docs = []\n",
    "    if documents is not None:\n",
    "        for doc in documents:\n",
    "            doc_text = f\"{doc['title']} {doc['abstract']}\"\n",
    "            all_docs.append((doc[\"_id\"], doc_text))\n",
    "    return all_docs\n",
    "\n",
    "\n",
    "def classify_document(document, doc_id):\n",
    "    result = CLASSIFIER(document, INPUT_LABELS)\n",
    "    processed_result = process_classification_result(result['labels'], result['scores'])\n",
    "    return doc_id, processed_result\n",
    "\n",
    "\n",
    "def classify_documents(collection, all_docs):\n",
    "    print(\"Classifying the documents...\")\n",
    "\n",
    "    total_docs = len(all_docs)\n",
    "    total_batches = (total_docs + BATCH_SIZE - 1) // BATCH_SIZE\n",
    "\n",
    "    results = []\n",
    "    for i in tqdm(range(0, total_docs, BATCH_SIZE), desc=\"Classifying\", total=total_batches):\n",
    "        batch = all_docs[i:i + BATCH_SIZE]\n",
    "        classified_batch = CLASSIFIER([doc[1] for doc in batch], INPUT_LABELS)\n",
    "        for doc, result in zip(batch, classified_batch):\n",
    "            doc_id = doc[0]\n",
    "            processed_result = process_classification_result(result['labels'], result['scores'])\n",
    "            results.append((doc_id, processed_result))\n",
    "\n",
    "    print(\"Updating documents with classification data...\")\n",
    "    for i, (doc_id, update_data) in enumerate(tqdm(results, desc=\"Updating Documents\"), 1):\n",
    "        update_document(doc_id, update_data, collection)\n",
    "\n",
    "\n",
    "def process_classification_result(labels, scores):\n",
    "    classification = {}\n",
    "    for label, score in zip(labels, scores):\n",
    "        new_label = label.lower().replace(\" \", \"_\")\n",
    "        classification[new_label] = round(score, 4)\n",
    "\n",
    "    return {\"classification\": classification}\n",
    "\n",
    "\n",
    "def update_document(doc_id, update_data, collection):\n",
    "    collection.update_one({\"_id\": doc_id},\n",
    "                          {\"$set\": update_data})\n",
    "\n",
    "def main():\n",
    "    all_docs = fetch_documents(collection)\n",
    "    classify_documents(collection, all_docs)\n",
    "\n",
    "\n",
    "if __name__ == \"__main__\":\n",
    "    main()\n"
   ],
   "metadata": {
    "collapsed": false,
    "ExecuteTime": {
     "end_time": "2023-12-04T06:23:46.586654200Z",
     "start_time": "2023-12-04T06:02:35.733060500Z"
    }
   }
  },
  {
   "cell_type": "code",
   "execution_count": 21,
   "outputs": [
    {
     "name": "stderr",
     "output_type": "stream",
     "text": [
      "C:\\Users\\Soko\\AppData\\Local\\Temp\\ipykernel_8296\\1910495194.py:2: DeprecationWarning: count is deprecated. Use Collection.count_documents instead.\n",
      "  print(f\"Number of documents found for updating: {documents_to_update.count()}\")\n"
     ]
    },
    {
     "name": "stdout",
     "output_type": "stream",
     "text": [
      "Number of documents found for updating: 100\n",
      "Removed classification from document ID: 656d48da38303de27998efec\n",
      "Removed classification from document ID: 656d48db38303de27998efed\n",
      "Removed classification from document ID: 656d48dc38303de27998efee\n",
      "Removed classification from document ID: 656d48dc38303de27998efef\n",
      "Removed classification from document ID: 656d48dc38303de27998eff0\n",
      "Removed classification from document ID: 656d48dd38303de27998eff1\n",
      "Removed classification from document ID: 656d48dd38303de27998eff2\n",
      "Removed classification from document ID: 656d48dd38303de27998eff3\n",
      "Removed classification from document ID: 656d48de38303de27998eff4\n",
      "Removed classification from document ID: 656d48de38303de27998eff5\n",
      "Removed classification from document ID: 656d48de38303de27998eff6\n",
      "Removed classification from document ID: 656d48de38303de27998eff7\n",
      "Removed classification from document ID: 656d48df38303de27998eff8\n",
      "Removed classification from document ID: 656d48df38303de27998eff9\n",
      "Removed classification from document ID: 656d48e038303de27998effa\n",
      "Removed classification from document ID: 656d48e038303de27998effb\n",
      "Removed classification from document ID: 656d48e038303de27998effc\n",
      "Removed classification from document ID: 656d48e038303de27998effd\n",
      "Removed classification from document ID: 656d48e138303de27998effe\n",
      "Removed classification from document ID: 656d48e138303de27998efff\n",
      "Removed classification from document ID: 656d48e138303de27998f000\n",
      "Removed classification from document ID: 656d48e238303de27998f001\n",
      "Removed classification from document ID: 656d48e238303de27998f002\n",
      "Removed classification from document ID: 656d48e238303de27998f003\n",
      "Removed classification from document ID: 656d48e338303de27998f004\n",
      "Removed classification from document ID: 656d48e338303de27998f005\n",
      "Removed classification from document ID: 656d48e338303de27998f006\n",
      "Removed classification from document ID: 656d48e438303de27998f007\n",
      "Removed classification from document ID: 656d48e438303de27998f008\n",
      "Removed classification from document ID: 656d48e438303de27998f009\n",
      "Removed classification from document ID: 656d48e538303de27998f00a\n",
      "Removed classification from document ID: 656d48e538303de27998f00b\n",
      "Removed classification from document ID: 656d48e538303de27998f00c\n",
      "Removed classification from document ID: 656d48e638303de27998f00d\n",
      "Removed classification from document ID: 656d48e638303de27998f00e\n",
      "Removed classification from document ID: 656d48e638303de27998f00f\n",
      "Removed classification from document ID: 656d48e738303de27998f010\n",
      "Removed classification from document ID: 656d48e738303de27998f011\n",
      "Removed classification from document ID: 656d48e738303de27998f012\n",
      "Removed classification from document ID: 656d48e838303de27998f013\n",
      "Removed classification from document ID: 656d48e838303de27998f014\n",
      "Removed classification from document ID: 656d48e838303de27998f015\n",
      "Removed classification from document ID: 656d48e938303de27998f016\n",
      "Removed classification from document ID: 656d48e938303de27998f017\n",
      "Removed classification from document ID: 656d48e938303de27998f018\n",
      "Removed classification from document ID: 656d48ea38303de27998f019\n",
      "Removed classification from document ID: 656d48ea38303de27998f01a\n",
      "Removed classification from document ID: 656d48ea38303de27998f01b\n",
      "Removed classification from document ID: 656d48eb38303de27998f01c\n",
      "Removed classification from document ID: 656d48eb38303de27998f01d\n",
      "Removed classification from document ID: 656d48eb38303de27998f01e\n",
      "Removed classification from document ID: 656d48eb38303de27998f01f\n",
      "Removed classification from document ID: 656d48ec38303de27998f020\n",
      "Removed classification from document ID: 656d48ec38303de27998f021\n",
      "Removed classification from document ID: 656d48ec38303de27998f022\n",
      "Removed classification from document ID: 656d48ed38303de27998f023\n",
      "Removed classification from document ID: 656d48ed38303de27998f024\n",
      "Removed classification from document ID: 656d48ed38303de27998f025\n",
      "Removed classification from document ID: 656d48ee38303de27998f026\n",
      "Removed classification from document ID: 656d48ee38303de27998f027\n",
      "Removed classification from document ID: 656d48ee38303de27998f028\n",
      "Removed classification from document ID: 656d48ef38303de27998f029\n",
      "Removed classification from document ID: 656d48ef38303de27998f02a\n",
      "Removed classification from document ID: 656d48ef38303de27998f02b\n",
      "Removed classification from document ID: 656d48f038303de27998f02c\n",
      "Removed classification from document ID: 656d48f038303de27998f02d\n",
      "Removed classification from document ID: 656d48f038303de27998f02e\n",
      "Removed classification from document ID: 656d48f138303de27998f02f\n",
      "Removed classification from document ID: 656d48f138303de27998f030\n",
      "Removed classification from document ID: 656d48f138303de27998f031\n",
      "Removed classification from document ID: 656d48f238303de27998f032\n",
      "Removed classification from document ID: 656d48f238303de27998f033\n",
      "Removed classification from document ID: 656d48f238303de27998f034\n",
      "Removed classification from document ID: 656d48f238303de27998f035\n",
      "Removed classification from document ID: 656d48f338303de27998f036\n",
      "Removed classification from document ID: 656d48f338303de27998f037\n",
      "Removed classification from document ID: 656d48f338303de27998f038\n",
      "Removed classification from document ID: 656d48f438303de27998f039\n",
      "Removed classification from document ID: 656d48f438303de27998f03a\n",
      "Removed classification from document ID: 656d48f438303de27998f03b\n",
      "Removed classification from document ID: 656d48f538303de27998f03c\n",
      "Removed classification from document ID: 656d48f538303de27998f03d\n",
      "Removed classification from document ID: 656d48f538303de27998f03e\n",
      "Removed classification from document ID: 656d48f638303de27998f03f\n",
      "Removed classification from document ID: 656d48f638303de27998f040\n",
      "Removed classification from document ID: 656d48f638303de27998f041\n",
      "Removed classification from document ID: 656d48f738303de27998f042\n",
      "Removed classification from document ID: 656d48f738303de27998f043\n",
      "Removed classification from document ID: 656d48f738303de27998f044\n",
      "Removed classification from document ID: 656d48f838303de27998f045\n",
      "Removed classification from document ID: 656d48f838303de27998f046\n",
      "Removed classification from document ID: 656d48f838303de27998f047\n",
      "Removed classification from document ID: 656d48f938303de27998f048\n",
      "Removed classification from document ID: 656d48f938303de27998f049\n",
      "Removed classification from document ID: 656d48f938303de27998f04a\n",
      "Removed classification from document ID: 656d48fa38303de27998f04b\n",
      "Removed classification from document ID: 656d48fa38303de27998f04c\n",
      "Removed classification from document ID: 656d48fa38303de27998f04d\n",
      "Removed classification from document ID: 656d48fb38303de27998f04e\n",
      "Removed classification from document ID: 656d48fb38303de27998f04f\n"
     ]
    }
   ],
   "source": [
    "documents_to_update = collection.find({\"classification\": {\"$exists\": True}})\n",
    "print(f\"Number of documents found for updating: {documents_to_update.count()}\")\n",
    "from pymongo import errors\n",
    "\n",
    "for doc in documents_to_update:\n",
    "    try:\n",
    "        doc_id = doc[\"_id\"]\n",
    "        result = collection.update_one({\"_id\": doc_id}, {\"$unset\": {\"classification\": \"\"}})\n",
    "        if result.modified_count:\n",
    "            print(f\"Removed classification from document ID: {doc_id}\")\n",
    "        else:\n",
    "            print(f\"No changes made for document ID: {doc_id}\")\n",
    "    except errors.PyMongoError as e:\n",
    "        print(f\"Error updating document ID: {doc_id}. Error: {e}\")\n"
   ],
   "metadata": {
    "collapsed": false,
    "ExecuteTime": {
     "end_time": "2023-12-04T06:01:15.648148200Z",
     "start_time": "2023-12-04T06:01:05.155807600Z"
    }
   }
  }
 ],
 "metadata": {
  "kernelspec": {
   "name": "cuda",
   "language": "python",
   "display_name": "cuda-gpt"
  },
  "language_info": {
   "codemirror_mode": {
    "name": "ipython",
    "version": 2
   },
   "file_extension": ".py",
   "mimetype": "text/x-python",
   "name": "python",
   "nbconvert_exporter": "python",
   "pygments_lexer": "ipython2",
   "version": "2.7.6"
  }
 },
 "nbformat": 4,
 "nbformat_minor": 0
}
