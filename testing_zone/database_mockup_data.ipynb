{
 "cells": [
  {
   "cell_type": "code",
   "execution_count": 1,
   "outputs": [],
   "source": [
    "from database import ResearchPaperDB\n",
    "\n",
    "DB_NAME = \"twinning_papers\"\n",
    "COLLECTION_NAME = \"papers\"\n",
    "db = ResearchPaperDB(DB_NAME, COLLECTION_NAME)"
   ],
   "metadata": {
    "collapsed": false,
    "ExecuteTime": {
     "end_time": "2023-12-04T03:13:11.933785400Z",
     "start_time": "2023-12-04T03:13:10.356326800Z"
    }
   }
  },
  {
   "cell_type": "code",
   "execution_count": 3,
   "outputs": [
    {
     "name": "stdout",
     "output_type": "stream",
     "text": [
      "The age distribution of dizygotic twinning in humans and cattle: etiologic implications.\n",
      "\n",
      "The age distribution of dizygotic twinning in humans and cattle: etiologic implications.\n",
      "\n",
      "Discriminating between monozygotic and dizygotic cattle twins\n",
      "\n",
      "Anomalies of Monozygotic Duplication\n",
      "\n",
      "Medical demography and epidemiology: dizygotic twins\n",
      "\n"
     ]
    }
   ],
   "source": [
    "\n",
    "# Your mockup query\n",
    "mockup_query = \"What is the most important aspect for dizygotic twinning?\"\n",
    "\n",
    "# Step 1: Embed the query\n",
    "query_embedding = db.embed_query(mockup_query)\n",
    "\n",
    "# Step 2: Find similar documents based on the embedding\n",
    "# Index name and embedding field are given according to your specifications\n",
    "similar_documents = db.find_similar_documents(\n",
    "    embedding=query_embedding,\n",
    "    index_name=\"paperSearchIndex\",\n",
    "    embedding_field=\"embedding\"\n",
    ")\n",
    "\n",
    "# Display the similar documents\n",
    "for document in similar_documents:\n",
    "    print(document[\"title\"])\n",
    "    print(\"\")"
   ],
   "metadata": {
    "collapsed": false,
    "ExecuteTime": {
     "end_time": "2023-12-04T03:13:34.406439100Z",
     "start_time": "2023-12-04T03:13:33.819212200Z"
    }
   }
  }
 ],
 "metadata": {
  "kernelspec": {
   "display_name": "Python 3",
   "language": "python",
   "name": "python3"
  },
  "language_info": {
   "codemirror_mode": {
    "name": "ipython",
    "version": 2
   },
   "file_extension": ".py",
   "mimetype": "text/x-python",
   "name": "python",
   "nbconvert_exporter": "python",
   "pygments_lexer": "ipython2",
   "version": "2.7.6"
  }
 },
 "nbformat": 4,
 "nbformat_minor": 0
}
