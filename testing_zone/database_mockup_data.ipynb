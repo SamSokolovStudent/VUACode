{
 "cells": [
  {
   "cell_type": "code",
   "execution_count": 1,
   "outputs": [],
   "source": [
    "from database import ResearchPaperDB\n",
    "\n",
    "DB_NAME = \"twinning_papers\"\n",
    "COLLECTION_NAME = \"papers\"\n",
    "db = ResearchPaperDB(DB_NAME, COLLECTION_NAME)"
   ],
   "metadata": {
    "collapsed": false,
    "ExecuteTime": {
     "end_time": "2023-11-13T01:44:48.087434500Z",
     "start_time": "2023-11-13T01:44:46.667189600Z"
    }
   }
  },
  {
   "cell_type": "code",
   "execution_count": 7,
   "outputs": [
    {
     "name": "stdout",
     "output_type": "stream",
     "text": [
      "Mockup documents have been inserted into the database.\n"
     ]
    }
   ],
   "source": [
    "# Define mockup documents\n",
    "mockup_docs = [\n",
    "    {\n",
    "        \"title\": \"Advances in Quantum Computing\",\n",
    "        \"abstract\": \"This paper discusses the latest advances in quantum computing and its implications for the future of technology.\",\n",
    "        \"body\": (\n",
    "            \"Quantum computing has emerged as a groundbreaking technology, offering substantial advancements in computational power. \"\n",
    "            \"By exploiting the peculiar properties of quantum bits or qubits, which can exist in multiple states simultaneously, quantum computers can perform a vast number of calculations at once. \"\n",
    "            \"This parallelism is the cornerstone of their potential to revolutionize fields such as cryptography, where they could potentially break many of the encryption algorithms currently in use. \"\n",
    "            \"Similarly, in the realm of materials science and pharmaceuticals, quantum computers are poised to accelerate the discovery of new materials and drugs by simulating molecular and chemical interactions at unprecedented speeds and accuracies. \"\n",
    "            \"However, the path forward is strewn with technical challenges, such as maintaining qubit stability – known as coherence – and error rates low enough to be practical for complex computations. \"\n",
    "            \"Furthermore, the development of new quantum algorithms that can fully leverage the theoretical performance of quantum machines is an ongoing field of research. \"\n",
    "            \"Despite these hurdles, the pace of advancement in constructing scalable quantum computers has been accelerating, indicating a future where quantum computing will have a profound impact on the entire spectrum of scientific inquiry and technological development.\"\n",
    "        ),\n",
    "        \"authors\": [\"Alice Smith\", \"Bob Johnson\"],\n",
    "        \"DOI\": \"10.1234/5678\",\n",
    "        \"metadata\": {\"year\": 2020, \"venue\": \"Nature\"}\n",
    "    },\n",
    "    {\n",
    "        \"title\": \"Exploring the Depths of Neural Networks\",\n",
    "        \"abstract\": \"We delve into the intricate architecture of neural networks and explore how they can solve complex problems.\",\n",
    "        \"body\": (\n",
    "            \"Neural networks have taken the center stage in the development of artificial intelligence, enabling machines to recognize patterns and make decisions with a degree of autonomy. \"\n",
    "            \"The depth and complexity of these networks have grown, with deep learning models learning representations of data that are increasingly abstract, allowing for high levels of accuracy in tasks such as natural language processing and computer vision. \"\n",
    "            \"This exploration dives deep into the layered configurations of neural networks, examining the intricacies of their design, the nature of activation functions, the strategy of weight initialization, and the optimization algorithms that train these networks. \"\n",
    "            \"Attention is given to the latest breakthroughs in learning algorithms that reduce the time required to train large networks, as well as techniques to avoid overfitting, such as dropout and batch normalization. \"\n",
    "            \"Moreover, this document sheds light on the future trajectory of neural networks, exploring the potential of generative adversarial networks, recurrent neural networks for time series analysis, and the ongoing pursuit of network architectures that mimic the human brain’s efficiency and flexibility.\"\n",
    "        ),\n",
    "        \"authors\": [\"Charlie Brown\", \"Dana White\"],\n",
    "        \"DOI\": \"10.1234/5678\",\n",
    "        \"metadata\": {\"year\": 2020, \"venue\": \"Nature\"}\n",
    "    },\n",
    "    {\n",
    "        \"title\": \"Sustainable Energy Solutions for the Next Century\",\n",
    "        \"abstract\": \"The paper outlines various sustainable energy solutions that could power our world in the most efficient way.\",\n",
    "        \"body\": (\n",
    "            \"As the global population continues to rise and the effects of climate change become increasingly pronounced, the pursuit of sustainable energy solutions has become more critical than ever. \"\n",
    "            \"This paper presents an in-depth analysis of the various sustainable energy solutions, such as solar photovoltaic systems, wind turbines, hydroelectric power, and geothermal energy sources, discussing their respective roles in the future energy mix. \"\n",
    "            \"Consideration is given to the technological advancements that have made these energy sources more efficient and cost-effective, as well as the infrastructural and regulatory challenges that must be overcome to integrate them into the existing energy systems. \"\n",
    "            \"The role of energy storage technologies, including battery systems and other forms of storing excess energy, is examined as a vital component of a reliable renewable energy grid. \"\n",
    "            \"Furthermore, the potential of emerging technologies, such as artificial photosynthesis and advanced nuclear reactors, is discussed in the context of long-term energy sustainability. \"\n",
    "            \"The document goes beyond the technology itself to consider the socioeconomic and political factors that influence the adoption of sustainable energy, advocating for a comprehensive approach that involves policy support, community engagement, and economic incentives.\"\n",
    "        ),\n",
    "        \"authors\": [\"Evan Green\", \"Fiona Grey\"],\n",
    "        \"DOI\": \"10.1234/5678\",\n",
    "        \"metadata\": {\"year\": 2020, \"venue\": \"Nature\"}\n",
    "    }\n",
    "]\n",
    "\n",
    "# Insert mockup documents\n",
    "for doc in mockup_docs:\n",
    "    db.insert_paper(\n",
    "        title=doc['title'],\n",
    "        abstract=doc['abstract'],\n",
    "        body=doc['body'],\n",
    "        authors=doc['authors'],\n",
    "        doi=doc['DOI'],\n",
    "        metadata=doc['metadata']\n",
    "    )\n",
    "\n",
    "print(\"Mockup documents have been inserted into the database.\")"
   ],
   "metadata": {
    "collapsed": false,
    "ExecuteTime": {
     "end_time": "2023-11-13T01:46:36.048792600Z",
     "start_time": "2023-11-13T01:46:35.040164900Z"
    }
   }
  },
  {
   "cell_type": "code",
   "execution_count": 8,
   "outputs": [
    {
     "name": "stdout",
     "output_type": "stream",
     "text": [
      "Advances in Quantum Computing\n",
      "Advances in Quantum Computing\n",
      "Advances in Quantum Computing\n",
      "Sustainable Energy Solutions for the Next Century\n",
      "Sustainable Energy Solutions for the Next Century\n"
     ]
    }
   ],
   "source": [
    "\n",
    "# Your mockup query\n",
    "mockup_query = \"The impact of quantum computing on the future of technology\"\n",
    "\n",
    "# Step 1: Embed the query\n",
    "query_embedding = db.embed_query(mockup_query)\n",
    "\n",
    "# Step 2: Find similar documents based on the embedding\n",
    "# Index name and embedding field are given according to your specifications\n",
    "similar_documents = db.find_similar_documents(\n",
    "    embedding=query_embedding,\n",
    "    index_name=\"paperSearchIndex\",\n",
    "    embedding_field=\"embedding\"\n",
    ")\n",
    "\n",
    "# Display the similar documents\n",
    "for document in similar_documents:\n",
    "    print(document['DOI'])"
   ],
   "metadata": {
    "collapsed": false,
    "ExecuteTime": {
     "end_time": "2023-11-13T01:46:38.278353800Z",
     "start_time": "2023-11-13T01:46:37.604016200Z"
    }
   }
  }
 ],
 "metadata": {
  "kernelspec": {
   "display_name": "Python 3",
   "language": "python",
   "name": "python3"
  },
  "language_info": {
   "codemirror_mode": {
    "name": "ipython",
    "version": 2
   },
   "file_extension": ".py",
   "mimetype": "text/x-python",
   "name": "python",
   "nbconvert_exporter": "python",
   "pygments_lexer": "ipython2",
   "version": "2.7.6"
  }
 },
 "nbformat": 4,
 "nbformat_minor": 0
}
