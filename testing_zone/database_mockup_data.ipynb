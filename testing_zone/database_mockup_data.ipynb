{
 "cells": [
  {
   "cell_type": "code",
   "execution_count": 2,
   "outputs": [
    {
     "ename": "TypeError",
     "evalue": "str expected, not NoneType",
     "output_type": "error",
     "traceback": [
      "\u001B[1;31m---------------------------------------------------------------------------\u001B[0m",
      "\u001B[1;31mTypeError\u001B[0m                                 Traceback (most recent call last)",
      "Cell \u001B[1;32mIn[2], line 1\u001B[0m\n\u001B[1;32m----> 1\u001B[0m \u001B[38;5;28;01mfrom\u001B[39;00m \u001B[38;5;21;01mdatabase\u001B[39;00m \u001B[38;5;28;01mimport\u001B[39;00m ResearchPaperDB\n\u001B[0;32m      3\u001B[0m DB_NAME \u001B[38;5;241m=\u001B[39m \u001B[38;5;124m\"\u001B[39m\u001B[38;5;124mtwinning_papers\u001B[39m\u001B[38;5;124m\"\u001B[39m\n\u001B[0;32m      4\u001B[0m COLLECTION_NAME \u001B[38;5;241m=\u001B[39m \u001B[38;5;124m\"\u001B[39m\u001B[38;5;124mpapers\u001B[39m\u001B[38;5;124m\"\u001B[39m\n",
      "File \u001B[1;32m~\\Documents\\GitHub\\VUACode\\database.py:11\u001B[0m\n\u001B[0;32m      9\u001B[0m load_dotenv(dotenv_path)\n\u001B[0;32m     10\u001B[0m MONGODB_ATLAS_CLUSTER_URI \u001B[38;5;241m=\u001B[39m os\u001B[38;5;241m.\u001B[39mgetenv(\u001B[38;5;124m'\u001B[39m\u001B[38;5;124mMONGODB_URI\u001B[39m\u001B[38;5;124m'\u001B[39m)\n\u001B[1;32m---> 11\u001B[0m \u001B[43mos\u001B[49m\u001B[38;5;241;43m.\u001B[39;49m\u001B[43menviron\u001B[49m\u001B[43m[\u001B[49m\u001B[38;5;124;43m'\u001B[39;49m\u001B[38;5;124;43mOPENAI_API_KEY\u001B[39;49m\u001B[38;5;124;43m'\u001B[39;49m\u001B[43m]\u001B[49m \u001B[38;5;241m=\u001B[39m os\u001B[38;5;241m.\u001B[39mgetenv(\u001B[38;5;124m'\u001B[39m\u001B[38;5;124mOPENAI_API_KEY\u001B[39m\u001B[38;5;124m'\u001B[39m)\n\u001B[0;32m     14\u001B[0m \u001B[38;5;28;01mclass\u001B[39;00m \u001B[38;5;21;01mResearchPaperDB\u001B[39;00m:\n\u001B[0;32m     15\u001B[0m     \u001B[38;5;28;01mdef\u001B[39;00m \u001B[38;5;21m__init__\u001B[39m(\u001B[38;5;28mself\u001B[39m, db_name, collection_name):\n",
      "File \u001B[1;32m<frozen os>:684\u001B[0m, in \u001B[0;36m__setitem__\u001B[1;34m(self, key, value)\u001B[0m\n",
      "File \u001B[1;32m<frozen os>:744\u001B[0m, in \u001B[0;36mcheck_str\u001B[1;34m(value)\u001B[0m\n",
      "\u001B[1;31mTypeError\u001B[0m: str expected, not NoneType"
     ]
    }
   ],
   "source": [
    "from database import ResearchPaperDB\n",
    "\n",
    "DB_NAME = \"twinning_papers\"\n",
    "COLLECTION_NAME = \"papers\"\n",
    "db = ResearchPaperDB(DB_NAME, COLLECTION_NAME)"
   ],
   "metadata": {
    "collapsed": false,
    "ExecuteTime": {
     "end_time": "2023-12-04T12:14:01.569372Z",
     "start_time": "2023-12-04T12:13:59.024370200Z"
    }
   }
  },
  {
   "cell_type": "code",
   "execution_count": 1,
   "outputs": [
    {
     "ename": "NameError",
     "evalue": "name 'db' is not defined",
     "output_type": "error",
     "traceback": [
      "\u001B[1;31m---------------------------------------------------------------------------\u001B[0m",
      "\u001B[1;31mNameError\u001B[0m                                 Traceback (most recent call last)",
      "Cell \u001B[1;32mIn[1], line 5\u001B[0m\n\u001B[0;32m      2\u001B[0m mockup_query \u001B[38;5;241m=\u001B[39m \u001B[38;5;124m\"\u001B[39m\u001B[38;5;124mWhat is the most important aspect for dizygotic twinning?\u001B[39m\u001B[38;5;124m\"\u001B[39m\n\u001B[0;32m      4\u001B[0m \u001B[38;5;66;03m# Step 1: Embed the query\u001B[39;00m\n\u001B[1;32m----> 5\u001B[0m query_embedding \u001B[38;5;241m=\u001B[39m \u001B[43mdb\u001B[49m\u001B[38;5;241m.\u001B[39membed_query(mockup_query)\n\u001B[0;32m      7\u001B[0m \u001B[38;5;66;03m# Step 2: Find similar documents based on the embedding\u001B[39;00m\n\u001B[0;32m      8\u001B[0m \u001B[38;5;66;03m# Index name and embedding field are given according to your specifications\u001B[39;00m\n\u001B[0;32m      9\u001B[0m similar_documents \u001B[38;5;241m=\u001B[39m db\u001B[38;5;241m.\u001B[39mfind_similar_documents(\n\u001B[0;32m     10\u001B[0m     embedding\u001B[38;5;241m=\u001B[39mquery_embedding,\n\u001B[0;32m     11\u001B[0m     index_name\u001B[38;5;241m=\u001B[39m\u001B[38;5;124m\"\u001B[39m\u001B[38;5;124mpaperSearchIndex\u001B[39m\u001B[38;5;124m\"\u001B[39m,\n\u001B[0;32m     12\u001B[0m     embedding_field\u001B[38;5;241m=\u001B[39m\u001B[38;5;124m\"\u001B[39m\u001B[38;5;124membedding\u001B[39m\u001B[38;5;124m\"\u001B[39m\n\u001B[0;32m     13\u001B[0m )\n",
      "\u001B[1;31mNameError\u001B[0m: name 'db' is not defined"
     ]
    }
   ],
   "source": [
    "\n",
    "# Your mockup query\n",
    "mockup_query = \"What is the most important aspect for dizygotic twinning?\"\n",
    "\n",
    "# Step 1: Embed the query\n",
    "query_embedding = db.embed_query(mockup_query)\n",
    "\n",
    "# Step 2: Find similar documents based on the embedding\n",
    "# Index name and embedding field are given according to your specifications\n",
    "similar_documents = db.find_similar_documents(\n",
    "    embedding=query_embedding,\n",
    "    index_name=\"paperSearchIndex\",\n",
    "    embedding_field=\"embedding\"\n",
    ")\n",
    "\n",
    "# Display the similar documents\n",
    "for document in similar_documents:\n",
    "    print(document[\"title\"])\n",
    "    print(\"\")"
   ],
   "metadata": {
    "collapsed": false,
    "ExecuteTime": {
     "end_time": "2023-12-04T12:13:57.301990Z",
     "start_time": "2023-12-04T12:13:57.157638700Z"
    }
   }
  }
 ],
 "metadata": {
  "kernelspec": {
   "display_name": "Python 3",
   "language": "python",
   "name": "python3"
  },
  "language_info": {
   "codemirror_mode": {
    "name": "ipython",
    "version": 2
   },
   "file_extension": ".py",
   "mimetype": "text/x-python",
   "name": "python",
   "nbconvert_exporter": "python",
   "pygments_lexer": "ipython2",
   "version": "2.7.6"
  }
 },
 "nbformat": 4,
 "nbformat_minor": 0
}
