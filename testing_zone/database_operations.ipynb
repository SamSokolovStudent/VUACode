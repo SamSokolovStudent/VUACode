{
 "cells": [
  {
   "cell_type": "code",
   "execution_count": 1,
   "metadata": {
    "collapsed": true,
    "ExecuteTime": {
     "end_time": "2023-11-13T01:46:54.022604800Z",
     "start_time": "2023-11-13T01:46:52.783018200Z"
    }
   },
   "outputs": [
    {
     "name": "stdout",
     "output_type": "stream",
     "text": [
      "Cleared all documents from papers\n"
     ]
    },
    {
     "data": {
      "text/plain": "<IPython.core.display.HTML object>",
      "text/html": "<b>Database has been cleared.</b>"
     },
     "metadata": {},
     "output_type": "display_data"
    }
   ],
   "source": [
    "import os\n",
    "from dotenv import load_dotenv\n",
    "from pymongo import MongoClient\n",
    "from IPython.display import display, HTML\n",
    "\n",
    "# Fetch the MongoDB URI from the environment variable\n",
    "dotenv_path = r'C:\\Users\\Soko\\Documents\\GitHub\\VUACode\\.env'\n",
    "load_dotenv(dotenv_path)\n",
    "mongodb_uri = os.getenv('MONGODB_URI')\n",
    "\n",
    "if mongodb_uri:\n",
    "    # Connect to the MongoDB client using the URI\n",
    "    client = MongoClient(mongodb_uri)\n",
    "\n",
    "    # Specify the database you want to clear\n",
    "    # You need to change 'your_database_name' to the name of your database\n",
    "    db = client['twinning_papers']\n",
    "\n",
    "    # This will fetch all collection names in the database\n",
    "    collections = db.list_collection_names()\n",
    "\n",
    "    # Loop through the collections and delete all documents from each\n",
    "    for collection_name in collections:\n",
    "        db[collection_name].delete_many({})\n",
    "        print(f\"Cleared all documents from {collection_name}\")\n",
    "\n",
    "    display(HTML(\"<b>Database has been cleared.</b>\"))\n",
    "else:\n",
    "    print(\"Please set the MONGODB_URI environment variable.\")\n"
   ]
  },
  {
   "cell_type": "markdown",
   "source": [],
   "metadata": {
    "collapsed": false
   }
  }
 ],
 "metadata": {
  "kernelspec": {
   "display_name": "Python 3",
   "language": "python",
   "name": "python3"
  },
  "language_info": {
   "codemirror_mode": {
    "name": "ipython",
    "version": 2
   },
   "file_extension": ".py",
   "mimetype": "text/x-python",
   "name": "python",
   "nbconvert_exporter": "python",
   "pygments_lexer": "ipython2",
   "version": "2.7.6"
  }
 },
 "nbformat": 4,
 "nbformat_minor": 0
}
