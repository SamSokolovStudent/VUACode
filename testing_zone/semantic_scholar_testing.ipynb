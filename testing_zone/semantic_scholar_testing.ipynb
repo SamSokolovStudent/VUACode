{
 "cells": [
  {
   "cell_type": "code",
   "execution_count": 6,
   "outputs": [
    {
     "name": "stdout",
     "output_type": "stream",
     "text": [
      "Will retrieve an estimated 1281 documents\n",
      "Retrieved 1000 papers...\n",
      "Done! Retrieved 1000 papers total.\n"
     ]
    }
   ],
   "source": [
    "import requests\n",
    "import json\n",
    "\n",
    "# Positive keywords list\n",
    "positive_keywords = [\n",
    "    \"Chorionicity\", \"Early development\", \"Twinning Genetics Consortium\", \"Zygosity\",\n",
    "    \"Multiple Pregnancy\", \"Twinning\", \"Dizygotic Twinning\", \"Hormones\", \"FSH\",\n",
    "    \"Luteinizing hormone\", \"Human\", \"Sheep\", \"Cows\", \"Cattle\", \"Multiple Ovulation\",\n",
    "    \"Double Ovulation\", \"Livestock\", \"IVF\", \"ART\"\n",
    "]\n",
    "\n",
    "# Query ideas list\n",
    "query_ideas = [\n",
    "    \"Human Multiple Ovulation\", \"Human Double Ovulation\", \"Human Twinning\",\n",
    "    \"Sheep Multiple Ovulation\", \"Sheep Double Ovulation\", \"Sheep Twinning\",\n",
    "    \"Cows Multiple Ovulation\", \"Cows Double Ovulation\", \"Cows Twinning\",\n",
    "    \"Cattle Multiple Ovulation\", \"Cattle Double Ovulation\", \"Cattle Twinning\"\n",
    "]\n",
    "\n",
    "# Negative keywords list\n",
    "negative_keywords = [\n",
    "    \"Disease\", \"Tumor\", \"Cancer\", \"Carcinoma\", \"Hepatitis\", \"Twin Studies\",\n",
    "    \"Twin Model\", \"Heritability\", \"AE(C) Model\", \"The Classical Twin Method\", \"Digital Twin\",\n",
    "    \"Monozygotic\"\n",
    "]\n",
    "\n",
    "# Constructing the query with OR operators for broader matching\n",
    "# and excluding the negative keywords with the minus operator.\n",
    "query_components = positive_keywords + query_ideas\n",
    "query = f\"({' | '.join(query_components)}) -({' -'.join(negative_keywords)})\"\n",
    "fields = \"title,year,externalIds,abstract,url,authors,openAccessPdf\"\n",
    "\n",
    "url = f\"http://api.semanticscholar.org/graph/v1/paper/search/bulk?query={query}&fields={fields}\"\n",
    "\n",
    "# Sending the request and processing the response\n",
    "r = requests.get(url).json()\n",
    "\n",
    "print(f\"Will retrieve an estimated {r.get('total', 0)} documents\")\n",
    "\n",
    "# Save the papers\n",
    "retrieved = 0\n",
    "with open(\"papers.jsonl\", \"a\") as file:\n",
    "    while True:\n",
    "        if \"data\" in r:\n",
    "            retrieved += len(r['data'])\n",
    "            print(f\"Retrieved {retrieved} papers...\")\n",
    "            for paper in r['data']:\n",
    "                print(json.dumps(paper), file=file)\n",
    "        if \"next\" not in r:\n",
    "            break\n",
    "        r = requests.get(f\"{url}&cursor={r['next']}\").json()\n",
    "\n",
    "print(f\"Done! Retrieved {retrieved} papers total.\")"
   ],
   "metadata": {
    "collapsed": false,
    "ExecuteTime": {
     "end_time": "2023-11-13T02:29:13.894472400Z",
     "start_time": "2023-11-13T02:29:11.781365700Z"
    }
   }
  }
 ],
 "metadata": {
  "kernelspec": {
   "display_name": "Python 3",
   "language": "python",
   "name": "python3"
  },
  "language_info": {
   "codemirror_mode": {
    "name": "ipython",
    "version": 2
   },
   "file_extension": ".py",
   "mimetype": "text/x-python",
   "name": "python",
   "nbconvert_exporter": "python",
   "pygments_lexer": "ipython2",
   "version": "2.7.6"
  }
 },
 "nbformat": 4,
 "nbformat_minor": 0
}
